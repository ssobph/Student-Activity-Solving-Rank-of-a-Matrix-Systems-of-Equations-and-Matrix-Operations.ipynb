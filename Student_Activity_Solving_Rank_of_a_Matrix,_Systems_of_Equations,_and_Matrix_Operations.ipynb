{
  "nbformat": 4,
  "nbformat_minor": 0,
  "metadata": {
    "colab": {
      "provenance": []
    },
    "kernelspec": {
      "name": "python3",
      "display_name": "Python 3"
    },
    "language_info": {
      "name": "python"
    }
  },
  "cells": [
    {
      "cell_type": "markdown",
      "source": [
        "Determine the Rank of Matrix"
      ],
      "metadata": {
        "id": "s-QPxA0ST6pI"
      }
    },
    {
      "cell_type": "code",
      "execution_count": 1,
      "metadata": {
        "colab": {
          "base_uri": "https://localhost:8080/"
        },
        "id": "W7KFVtN1RNo6",
        "outputId": "e47603ca-7b43-4a9d-efe5-a2214b41226a"
      },
      "outputs": [
        {
          "output_type": "stream",
          "name": "stdout",
          "text": [
            "Rank of matrix A: 2\n"
          ]
        }
      ],
      "source": [
        "import numpy as np\n",
        "\n",
        "# Define the matrix A\n",
        "A = np.array([[1, 2, 3],\n",
        "              [4, 5, 6],\n",
        "              [7, 8, 9]])\n",
        "\n",
        "# Compute the rank\n",
        "rank = np.linalg.matrix_rank(A)\n",
        "print(f\"Rank of matrix A: {rank}\")"
      ]
    },
    {
      "cell_type": "code",
      "source": [
        "import numpy as np\n",
        "\n",
        "# Define the coefficient matrix A\n",
        "A = np.array([[2, 1, -1],\n",
        "              [-3, -1, 2],\n",
        "              [-2, 1, 2]])\n",
        "\n",
        "# Define the constant vector b\n",
        "b = np.array([8, -11, -3])\n",
        "\n",
        "# Check if the matrix A is invertible\n",
        "if np.linalg.det(A) != 0:  # If the determinant is not zero\n",
        "    # Calculate the solution using the inverse of A\n",
        "    x = np.linalg.inv(A).dot(b)\n",
        "    print(f\"Solution: {x}\")\n",
        "else:\n",
        "    print(\"Matrix A is not invertible. No unique solution.\")\n",
        ""
      ],
      "metadata": {
        "colab": {
          "base_uri": "https://localhost:8080/"
        },
        "id": "tmoDxIAcUB1s",
        "outputId": "dc16f4c4-4f06-44f3-8e7f-86c063877ea5"
      },
      "execution_count": 2,
      "outputs": [
        {
          "output_type": "stream",
          "name": "stdout",
          "text": [
            "Solution: [ 2.  3. -1.]\n"
          ]
        }
      ]
    },
    {
      "cell_type": "markdown",
      "source": [
        "Student Practice Problems"
      ],
      "metadata": {
        "id": "EAGwxSA7UFho"
      }
    },
    {
      "cell_type": "code",
      "source": [
        "# Define the matrix\n",
        "A = np.array([[1, 2, 3],\n",
        "              [4, 5, 6],\n",
        "              [7, 8, 9]])\n",
        "\n",
        "# Compute the rank\n",
        "rank = np.linalg.matrix_rank(A)\n",
        "\n",
        "print(\"Matrix A:\")\n",
        "print(A)\n",
        "print(f\"\\nRank of matrix A: {rank}\")\n",
        "\n",
        "# Explanation\n",
        "print(\"\\nExplanation:\")\n",
        "print(\"The rank of this matrix is 2 because:\")\n",
        "print(\"1. It has 3 rows, but the third row is a linear combination of the first two.\")\n",
        "print(\"2. Specifically, row3 = 2 * row2 - row1\")\n",
        "print(\"3. This means there are only 2 linearly independent rows or columns.\")"
      ],
      "metadata": {
        "colab": {
          "base_uri": "https://localhost:8080/"
        },
        "id": "gbf66eBYUGJh",
        "outputId": "aef17115-3e24-49a1-fccf-3f36df2a06f2"
      },
      "execution_count": 3,
      "outputs": [
        {
          "output_type": "stream",
          "name": "stdout",
          "text": [
            "Matrix A:\n",
            "[[1 2 3]\n",
            " [4 5 6]\n",
            " [7 8 9]]\n",
            "\n",
            "Rank of matrix A: 2\n",
            "\n",
            "Explanation:\n",
            "The rank of this matrix is 2 because:\n",
            "1. It has 3 rows, but the third row is a linear combination of the first two.\n",
            "2. Specifically, row3 = 2 * row2 - row1\n",
            "3. This means there are only 2 linearly independent rows or columns.\n"
          ]
        }
      ]
    },
    {
      "cell_type": "markdown",
      "source": [
        "Solving 3x3 System of Equations"
      ],
      "metadata": {
        "id": "3kgAL-RdUVz-"
      }
    },
    {
      "cell_type": "code",
      "source": [
        "import numpy as np\n",
        "\n",
        "\n",
        "A = np.array([[1, 1, 1],\n",
        "              [2, 4, 3],\n",
        "              [0, 0, 1]])\n",
        "\n",
        "b = np.array([6, 18, 5])\n",
        "\n",
        "# Check if the matrix A is invertible\n",
        "if np.linalg.det(A) != 0:  # If the determinant is not zero\n",
        "    # Calculate the solution using the inverse of A\n",
        "    x = np.linalg.inv(A).dot(b)  # Use dot product to find the solution vector\n",
        "    print(f\"Solution: x = {x[0]}, y = {x[1]}, z = {x[2]}\")\n",
        "else:\n",
        "    print(\"Matrix A is not invertible. No unique solution.\")"
      ],
      "metadata": {
        "colab": {
          "base_uri": "https://localhost:8080/"
        },
        "id": "h29xMc7pUW49",
        "outputId": "c1fac5d5-7209-4cb7-ff16-de5c0247a922"
      },
      "execution_count": 4,
      "outputs": [
        {
          "output_type": "stream",
          "name": "stdout",
          "text": [
            "Solution: x = 0.5, y = 0.5, z = 5.0\n"
          ]
        }
      ]
    },
    {
      "cell_type": "markdown",
      "source": [
        "Solving a 4x4 System of Equations"
      ],
      "metadata": {
        "id": "BvclaoUEUYPj"
      }
    },
    {
      "cell_type": "code",
      "source": [
        "import numpy as np\n",
        "\n",
        "\n",
        "A = np.array([[1, 1, 1, 1],\n",
        "              [2, 1, 0, 3],\n",
        "              [4, 3, 2, 1],\n",
        "              [3, 0, 5, 2]])\n",
        "\n",
        "# Define the constant vector b\n",
        "b = np.array([10, 11, 20, 15])\n",
        "\n",
        "# Check if the matrix A is invertible\n",
        "if np.linalg.det(A) != 0:  # If the determinant is not zero\n",
        "    # Calculate the solution using the inverse of A\n",
        "    x = np.linalg.inv(A).dot(b)  # Use dot product to find the solution vector\n",
        "    print(f\"Solution: x = {x[0]}, y = {x[1]}, z = {x[2]}, w = {x[3]}\")\n",
        "else:\n",
        "    print(\"Matrix A is not invertible. No unique solution.\")"
      ],
      "metadata": {
        "colab": {
          "base_uri": "https://localhost:8080/"
        },
        "id": "MXdbHe4WUbCJ",
        "outputId": "377f4455-1fe4-4714-bc60-d7fa24eb1765"
      },
      "execution_count": 5,
      "outputs": [
        {
          "output_type": "stream",
          "name": "stdout",
          "text": [
            "Solution: x = -1.625, y = 6.0, z = 2.875, w = 2.75\n"
          ]
        }
      ]
    }
  ]
}